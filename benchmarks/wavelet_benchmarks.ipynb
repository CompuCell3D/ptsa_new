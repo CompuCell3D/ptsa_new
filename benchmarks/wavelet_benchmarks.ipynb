{
 "cells": [
  {
   "cell_type": "code",
   "execution_count": 1,
   "metadata": {},
   "outputs": [],
   "source": [
    "import numpy as np\n",
    "import sys\n",
    "\n",
    "# comment out or adjust as appropriate:\n",
    "sys.path.insert(0, '/home/ctw/src/ptsa_new/build/lib.linux-x86_64-2.7/')\n",
    "import ptsa\n",
    "\n",
    "from ptsa.data.filters.MorletWaveletFilterCpp import MorletWaveletFilterCpp\n",
    "from ptsa.data.readers import EEGReader #EDFRawReader\n",
    "from ptsa.data.filters import MonopolarToBipolarMapper\n",
    "from ptsa.data.readers import JsonIndexReader\n",
    "from ptsa.data.readers import BaseEventReader\n",
    "\n",
    "\n",
    "# when running on rhino set rhino_mount to '', otherwise adjust as appropriate:\n",
    "rhino_mount = '/home/ctw/fusemounts/rhino'\n",
    "\n"
   ]
  },
  {
   "cell_type": "code",
   "execution_count": 2,
   "metadata": {},
   "outputs": [],
   "source": [
    "ev = BaseEventReader(filename=rhino_mount+\n",
    "                     '/data/eeg/scalp/ltp/ltpFR2/behavioral/events/events_all_LTP093.mat',\n",
    "                     use_reref_eeg=True,common_root='data').read()\n",
    "ev = ev[ev['type'] == 'WORD']\n",
    "ev = ev[ev['session'] == 1]\n",
    "\n",
    "channels = np.array(['{:03}'.format(x) for x in range(1,130)])\n",
    "eeg = EEGReader(events=ev, channels=channels, start_time=0.0, end_time=1.0, buffer_time=2.0).read()\n",
    "\n",
    "freqs=np.logspace(np.log10(2), np.log10(200), 15)\n"
   ]
  },
  {
   "cell_type": "code",
   "execution_count": 3,
   "metadata": {},
   "outputs": [
    {
     "name": "stdout",
     "output_type": "stream",
     "text": [
      "('CPP total time wavelet loop: ', 102.09135293960571)\n",
      "('CPP total time wavelet loop: ', 106.2283661365509)\n",
      "('CPP total time wavelet loop: ', 105.33881711959839)\n",
      "('CPP total time wavelet loop: ', 105.72558093070984)\n",
      "1 loop, best of 3: 1min 46s per loop\n"
     ]
    }
   ],
   "source": [
    "wf = MorletWaveletFilterCpp(time_series=eeg,\n",
    "                            freqs=freqs,\n",
    "                            output='power',\n",
    "                            frequency_dim_pos=0,\n",
    "                            verbose=True,\n",
    "                            cpus=1)\n",
    "%timeit pow_wavelet, phase_wavelet = wf.filter()"
   ]
  },
  {
   "cell_type": "code",
   "execution_count": 4,
   "metadata": {},
   "outputs": [
    {
     "name": "stdout",
     "output_type": "stream",
     "text": [
      "('CPP total time wavelet loop: ', 11.442231893539429)\n",
      "('CPP total time wavelet loop: ', 11.50298810005188)\n",
      "('CPP total time wavelet loop: ', 11.33631181716919)\n",
      "('CPP total time wavelet loop: ', 11.525317192077637)\n",
      "1 loop, best of 3: 12.7 s per loop\n"
     ]
    }
   ],
   "source": [
    "wf = MorletWaveletFilterCpp(time_series=eeg,\n",
    "                            freqs=freqs,\n",
    "                            output='power',\n",
    "                            frequency_dim_pos=0,\n",
    "                            verbose=True,\n",
    "                            cpus=10)\n",
    "%timeit pow_wavelet, phase_wavelet = wf.filter()\n"
   ]
  },
  {
   "cell_type": "code",
   "execution_count": 5,
   "metadata": {},
   "outputs": [
    {
     "name": "stdout",
     "output_type": "stream",
     "text": [
      "576 matching events found\n",
      "0 projection items activated\n",
      "0 bad epochs dropped\n"
     ]
    }
   ],
   "source": [
    "import mne\n",
    "info = mne.create_info(129, 500)\n",
    "eparray = np.transpose(np.array(eeg), (1,0,2))\n",
    "dat_mne = mne.EpochsArray(eparray, info)"
   ]
  },
  {
   "cell_type": "code",
   "execution_count": 6,
   "metadata": {},
   "outputs": [
    {
     "name": "stdout",
     "output_type": "stream",
     "text": [
      "1 loop, best of 3: 5min 12s per loop\n"
     ]
    }
   ],
   "source": [
    "%timeit power = mne.time_frequency.tfr_array_morlet(epoch_data=dat_mne, sfreq=500, freqs=freqs, n_cycles=5, output='power', n_jobs=1)"
   ]
  },
  {
   "cell_type": "code",
   "execution_count": 7,
   "metadata": {},
   "outputs": [
    {
     "name": "stderr",
     "output_type": "stream",
     "text": [
      "[Parallel(n_jobs=10)]: Done  52 tasks      | elapsed:   51.5s\n",
      "[Parallel(n_jobs=10)]: Done 129 out of 129 | elapsed:  2.1min finished\n",
      "[Parallel(n_jobs=10)]: Done  52 tasks      | elapsed:   52.1s\n",
      "[Parallel(n_jobs=10)]: Done 129 out of 129 | elapsed:  2.1min finished\n",
      "[Parallel(n_jobs=10)]: Done  52 tasks      | elapsed:   51.7s\n",
      "[Parallel(n_jobs=10)]: Done 129 out of 129 | elapsed:  2.1min finished\n",
      "[Parallel(n_jobs=10)]: Done  52 tasks      | elapsed:   51.9s\n",
      "[Parallel(n_jobs=10)]: Done 129 out of 129 | elapsed:  2.1min finished\n"
     ]
    },
    {
     "name": "stdout",
     "output_type": "stream",
     "text": [
      "1 loop, best of 3: 2min 24s per loop\n"
     ]
    }
   ],
   "source": [
    "%timeit power = mne.time_frequency.tfr_array_morlet(epoch_data=dat_mne, sfreq=500, freqs=freqs, n_cycles=5, output='power', n_jobs=10)"
   ]
  },
  {
   "cell_type": "code",
   "execution_count": null,
   "metadata": {},
   "outputs": [],
   "source": []
  }
 ],
 "metadata": {
  "kernelspec": {
   "display_name": "Python 2",
   "language": "python",
   "name": "python2"
  },
  "language_info": {
   "codemirror_mode": {
    "name": "ipython",
    "version": 2
   },
   "file_extension": ".py",
   "mimetype": "text/x-python",
   "name": "python",
   "nbconvert_exporter": "python",
   "pygments_lexer": "ipython2",
   "version": "2.7.14"
  }
 },
 "nbformat": 4,
 "nbformat_minor": 2
}

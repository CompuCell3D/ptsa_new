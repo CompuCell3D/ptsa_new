{
 "cells": [
  {
   "cell_type": "markdown",
   "metadata": {},
   "source": [
    "# Basic `TimeSeriesX` functionality"
   ]
  },
  {
   "cell_type": "markdown",
   "metadata": {},
   "source": [
    "At its core, PTSA interacts with time series data via the `TimeSeriesX` class, a thin wrapper around `xarray`'s `DataArray`. In the following examples, you will learn the basics."
   ]
  },
  {
   "cell_type": "code",
   "execution_count": 1,
   "metadata": {},
   "outputs": [],
   "source": [
    "import numpy as np\n",
    "\n",
    "# For plotting\n",
    "%matplotlib inline\n",
    "from matplotlib import pyplot as plt\n",
    "\n",
    "# The class in question; also available in the less-Pythonic ptsa.data.TimeSeriesX module.\n",
    "from ptsa.data.timeseries import TimeSeriesX"
   ]
  },
  {
   "cell_type": "markdown",
   "metadata": {},
   "source": [
    "At a minimum, a time series must have a time dimension and a sample rate. Because of the internals of `xarray`, sample rates are stored as a scalar coordinate. We can either specify this as a coordinate when creating a new `TimeSeriesX` instance, or we can use the convenience `TimeSeriesX.create` class method.\n",
    "\n",
    "To get started, let's take a simple case where we have only a single channel of data. We will generate a noisy sinuosoidal signal:"
   ]
  },
  {
   "cell_type": "code",
   "execution_count": 2,
   "metadata": {},
   "outputs": [
    {
     "data": {
      "text/plain": [
       "[<matplotlib.lines.Line2D at 0x11420fda0>]"
      ]
     },
     "execution_count": 2,
     "metadata": {},
     "output_type": "execute_result"
    },
    {
     "data": {
      "image/png": "[encoded data removed]",
      "text/plain": [
       "<matplotlib.figure.Figure at 0x111c4c9b0>"
      ]
     },
     "metadata": {},
     "output_type": "display_data"
    }
   ],
   "source": [
    "num_points = 5000  # number of points to generate\n",
    "sample_rate = 10.  # the sample rate in Hz\n",
    "frequency = 8.  # generated sine wave frequency in Hz\n",
    "\n",
    "t = np.linspace(0, 1, num_points) / sample_rate\n",
    "data = np.sin(2*np.pi*frequency*t) + np.random.uniform(-0.1, 0.1, num_points)\n",
    "plt.plot(t, data)"
   ]
  },
  {
   "cell_type": "markdown",
   "metadata": {},
   "source": [
    "Creating a time series object by explicitly passing the sample rate as a coordinate:"
   ]
  },
  {
   "cell_type": "code",
   "execution_count": 3,
   "metadata": {},
   "outputs": [
    {
     "name": "stdout",
     "output_type": "stream",
     "text": [
      "<xarray.TimeSeriesX (time: 5000)>\n",
      "array([-0.064745, -0.018316,  0.075394, ..., -0.985951, -1.03767 , -0.878288])\n",
      "Coordinates:\n",
      "  * time        (time) float64 0.0 2e-05 4.001e-05 6.001e-05 8.002e-05 ...\n",
      "    samplerate  float64 10.0\n"
     ]
    }
   ],
   "source": [
    "coords = {\"time\": t, \"samplerate\": sample_rate}\n",
    "ts = TimeSeriesX(data, coords=coords, dims=['time'])\n",
    "print(ts)"
   ]
  },
  {
   "cell_type": "markdown",
   "metadata": {},
   "source": [
    "... or using `TimeSeriesX.create`:"
   ]
  },
  {
   "cell_type": "code",
   "execution_count": 4,
   "metadata": {},
   "outputs": [
    {
     "name": "stdout",
     "output_type": "stream",
     "text": [
      "<xarray.TimeSeriesX (time: 5000)>\n",
      "array([-0.064745, -0.018316,  0.075394, ..., -0.985951, -1.03767 , -0.878288])\n",
      "Coordinates:\n",
      "  * time        (time) float64 0.0 2e-05 4.001e-05 6.001e-05 8.002e-05 ...\n",
      "    samplerate  float64 10.0\n"
     ]
    }
   ],
   "source": [
    "coords = dict(time=t)\n",
    "ts = TimeSeriesX.create(data, sample_rate, coords=coords, dims=['time'])\n",
    "print(ts)"
   ]
  },
  {
   "cell_type": "markdown",
   "metadata": {},
   "source": [
    "## Resampling"
   ]
  },
  {
   "cell_type": "markdown",
   "metadata": {},
   "source": [
    "We often need to resample time series data when making comparisons between different data sets or to downsample data that has higher resolution than necessary. This can be done using the `TimeSeriesX.resampled` method:"
   ]
  },
  {
   "cell_type": "code",
   "execution_count": 5,
   "metadata": {},
   "outputs": [
    {
     "name": "stdout",
     "output_type": "stream",
     "text": [
      "<xarray.TimeSeriesX (time: 500)>\n",
      "array([-0.442986,  0.08222 , -0.016573, ..., -0.968795, -0.906258, -1.053924])\n",
      "Coordinates:\n",
      "  * time        (time) float64 0.0 0.0002 0.0004001 0.0006001 0.0008002 ...\n",
      "    samplerate  float64 1.0\n",
      "Original number of data points: 5000\n",
      "New number of data points: 500\n"
     ]
    },
    {
     "data": {
      "text/plain": [
       "[<matplotlib.lines.Line2D at 0x104aa3ac8>]"
      ]
     },
     "execution_count": 5,
     "metadata": {},
     "output_type": "execute_result"
    },
    {
     "data": {
      "image/png": "[encoded data removed]",
      "text/plain": [
       "<matplotlib.figure.Figure at 0x1142e62e8>"
      ]
     },
     "metadata": {},
     "output_type": "display_data"
    }
   ],
   "source": [
    "new_rate = 1.\n",
    "resampled = ts.resampled(new_rate)\n",
    "print(resampled)\n",
    "print(\"Original number of data points:\", len(ts.data))\n",
    "print(\"New number of data points:\", len(resampled.data))\n",
    "resampled.plot()"
   ]
  },
  {
   "cell_type": "markdown",
   "metadata": {},
   "source": [
    "## Saving and loading with HDF5"
   ]
  },
  {
   "cell_type": "markdown",
   "metadata": {},
   "source": [
    "For convenience, we can save and load data in the HDF5 file format using the `TimeSeriesX.to_hdf` and `TimeSeriesX.from_hdf` methods."
   ]
  },
  {
   "cell_type": "code",
   "execution_count": 6,
   "metadata": {
    "collapsed": true
   },
   "outputs": [],
   "source": [
    "resampled.to_hdf(\"resampled.h5\")"
   ]
  },
  {
   "cell_type": "code",
   "execution_count": 7,
   "metadata": {},
   "outputs": [
    {
     "name": "stdout",
     "output_type": "stream",
     "text": [
      "<xarray.TimeSeriesX (time: 500)>\n",
      "array([-0.442986,  0.08222 , -0.016573, ..., -0.968795, -0.906258, -1.053924])\n",
      "Coordinates:\n",
      "  * time        (time) float64 0.0 0.0002 0.0004001 0.0006001 0.0008002 ...\n",
      "    samplerate  float64 1.0\n",
      "<xarray.TimeSeriesX (time: 500)>\n",
      "array([-0.442986,  0.08222 , -0.016573, ..., -0.968795, -0.906258, -1.053924])\n",
      "Coordinates:\n",
      "  * time        (time) float64 0.0 0.0002 0.0004001 0.0006001 0.0008002 ...\n",
      "    samplerate  float64 1.0\n"
     ]
    },
    {
     "data": {
      "text/plain": [
       "[<matplotlib.lines.Line2D at 0x11466cba8>]"
      ]
     },
     "execution_count": 7,
     "metadata": {},
     "output_type": "execute_result"
    },
    {
     "data": {
      "image/png": "[encoded data removed]",
      "text/plain": [
       "<matplotlib.figure.Figure at 0x1143367b8>"
      ]
     },
     "metadata": {},
     "output_type": "display_data"
    }
   ],
   "source": [
    "other_resampled = TimeSeriesX.from_hdf(\"resampled.h5\")\n",
    "print(resampled)\n",
    "print(other_resampled)\n",
    "other_resampled.plot()"
   ]
  }
 ],
 "metadata": {
  "anaconda-cloud": {},
  "kernelspec": {
   "display_name": "Python [default]",
   "language": "python",
   "name": "python3"
  },
  "language_info": {
   "codemirror_mode": {
    "name": "ipython",
    "version": 3
   },
   "file_extension": ".py",
   "mimetype": "text/x-python",
   "name": "python",
   "nbconvert_exporter": "python",
   "pygments_lexer": "ipython3",
   "version": "3.5.2"
  }
 },
 "nbformat": 4,
 "nbformat_minor": 2
}
